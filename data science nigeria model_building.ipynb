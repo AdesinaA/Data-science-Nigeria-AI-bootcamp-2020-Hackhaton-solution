{
 "cells": [
  {
   "cell_type": "code",
   "execution_count": 3,
   "metadata": {},
   "outputs": [],
   "source": [
    "# importing the packages\n",
    "\n",
    "import pandas as pd\n",
    "import numpy as np\n",
    "import seaborn as sns \n",
    "import matplotlib.pyplot as plt \n",
    "%matplotlib inline\n",
    "from sklearn.ensemble import RandomForestClassifier, GradientBoostingClassifier, BaggingClassifier, AdaBoostClassifier\n",
    "from xgboost import XGBClassifier\n",
    "from catboost import CatBoostClassifier\n",
    "from lightgbm import LGBMClassifier\n",
    "from sklearn.metrics import roc_auc_score, classification_report, confusion_matrix, accuracy_score, f1_score\n",
    "from sklearn.model_selection import StratifiedKFold, KFold, train_test_split"
   ]
  },
  {
   "cell_type": "code",
   "execution_count": 4,
   "metadata": {},
   "outputs": [],
   "source": [
    "# importing the new created train & test features\n",
    "\n",
    "train = pd.read_csv('credit1_train.csv')\n",
    "test = pd.read_csv('credit1_test.csv')"
   ]
  },
  {
   "cell_type": "code",
   "execution_count": 5,
   "metadata": {},
   "outputs": [
    {
     "data": {
      "text/html": [
       "<div>\n",
       "<style scoped>\n",
       "    .dataframe tbody tr th:only-of-type {\n",
       "        vertical-align: middle;\n",
       "    }\n",
       "\n",
       "    .dataframe tbody tr th {\n",
       "        vertical-align: top;\n",
       "    }\n",
       "\n",
       "    .dataframe thead th {\n",
       "        text-align: right;\n",
       "    }\n",
       "</style>\n",
       "<table border=\"1\" class=\"dataframe\">\n",
       "  <thead>\n",
       "    <tr style=\"text-align: right;\">\n",
       "      <th></th>\n",
       "      <th>Applicant_ID</th>\n",
       "      <th>form_field1</th>\n",
       "      <th>form_field2</th>\n",
       "      <th>form_field3</th>\n",
       "      <th>form_field4</th>\n",
       "      <th>form_field5</th>\n",
       "      <th>form_field6</th>\n",
       "      <th>form_field7</th>\n",
       "      <th>form_field8</th>\n",
       "      <th>form_field9</th>\n",
       "      <th>...</th>\n",
       "      <th>form_field45</th>\n",
       "      <th>form_field46</th>\n",
       "      <th>form_field47</th>\n",
       "      <th>form_field48</th>\n",
       "      <th>form_field49</th>\n",
       "      <th>form_field50</th>\n",
       "      <th>default_status</th>\n",
       "      <th>form_field99</th>\n",
       "      <th>form_field54</th>\n",
       "      <th>form</th>\n",
       "    </tr>\n",
       "  </thead>\n",
       "  <tbody>\n",
       "    <tr>\n",
       "      <th>0</th>\n",
       "      <td>Apcnt_1000000</td>\n",
       "      <td>3436.0</td>\n",
       "      <td>0.28505</td>\n",
       "      <td>1.6560</td>\n",
       "      <td>0.0</td>\n",
       "      <td>0.000</td>\n",
       "      <td>0.0</td>\n",
       "      <td>10689720.0</td>\n",
       "      <td>252072.0</td>\n",
       "      <td>4272776.0</td>\n",
       "      <td>...</td>\n",
       "      <td>0.0</td>\n",
       "      <td>0.0</td>\n",
       "      <td>1</td>\n",
       "      <td>-999.000000</td>\n",
       "      <td>1.129518</td>\n",
       "      <td>0.044335</td>\n",
       "      <td>0</td>\n",
       "      <td>3436.0</td>\n",
       "      <td>0.0</td>\n",
       "      <td>2</td>\n",
       "    </tr>\n",
       "    <tr>\n",
       "      <th>1</th>\n",
       "      <td>Apcnt_1000004</td>\n",
       "      <td>3456.0</td>\n",
       "      <td>0.67400</td>\n",
       "      <td>0.2342</td>\n",
       "      <td>0.0</td>\n",
       "      <td>0.000</td>\n",
       "      <td>0.0</td>\n",
       "      <td>898979.0</td>\n",
       "      <td>497531.0</td>\n",
       "      <td>9073814.0</td>\n",
       "      <td>...</td>\n",
       "      <td>-999.0</td>\n",
       "      <td>0.0</td>\n",
       "      <td>1</td>\n",
       "      <td>349.805730</td>\n",
       "      <td>1.620483</td>\n",
       "      <td>0.322436</td>\n",
       "      <td>0</td>\n",
       "      <td>3456.0</td>\n",
       "      <td>0.0</td>\n",
       "      <td>2</td>\n",
       "    </tr>\n",
       "    <tr>\n",
       "      <th>2</th>\n",
       "      <td>Apcnt_1000008</td>\n",
       "      <td>3276.0</td>\n",
       "      <td>0.53845</td>\n",
       "      <td>3.1510</td>\n",
       "      <td>0.0</td>\n",
       "      <td>6.282</td>\n",
       "      <td>-999.0</td>\n",
       "      <td>956940.0</td>\n",
       "      <td>-999.0</td>\n",
       "      <td>192944.0</td>\n",
       "      <td>...</td>\n",
       "      <td>0.0</td>\n",
       "      <td>0.0</td>\n",
       "      <td>1</td>\n",
       "      <td>-999.000000</td>\n",
       "      <td>1.513370</td>\n",
       "      <td>0.011640</td>\n",
       "      <td>1</td>\n",
       "      <td>2277.0</td>\n",
       "      <td>0.0</td>\n",
       "      <td>2</td>\n",
       "    </tr>\n",
       "    <tr>\n",
       "      <th>3</th>\n",
       "      <td>Apcnt_1000012</td>\n",
       "      <td>3372.0</td>\n",
       "      <td>0.17005</td>\n",
       "      <td>0.5050</td>\n",
       "      <td>0.0</td>\n",
       "      <td>0.000</td>\n",
       "      <td>192166.0</td>\n",
       "      <td>3044703.0</td>\n",
       "      <td>385499.0</td>\n",
       "      <td>3986472.0</td>\n",
       "      <td>...</td>\n",
       "      <td>-999.0</td>\n",
       "      <td>0.0</td>\n",
       "      <td>1</td>\n",
       "      <td>89.940100</td>\n",
       "      <td>0.664452</td>\n",
       "      <td>0.082729</td>\n",
       "      <td>0</td>\n",
       "      <td>195538.0</td>\n",
       "      <td>0.0</td>\n",
       "      <td>2</td>\n",
       "    </tr>\n",
       "    <tr>\n",
       "      <th>4</th>\n",
       "      <td>Apcnt_1000016</td>\n",
       "      <td>3370.0</td>\n",
       "      <td>0.77270</td>\n",
       "      <td>1.1010</td>\n",
       "      <td>0.0</td>\n",
       "      <td>0.000</td>\n",
       "      <td>1556.0</td>\n",
       "      <td>214728.0</td>\n",
       "      <td>214728.0</td>\n",
       "      <td>1284089.0</td>\n",
       "      <td>...</td>\n",
       "      <td>0.0</td>\n",
       "      <td>0.0</td>\n",
       "      <td>1</td>\n",
       "      <td>97.887502</td>\n",
       "      <td>1.427891</td>\n",
       "      <td>0.045630</td>\n",
       "      <td>0</td>\n",
       "      <td>4926.0</td>\n",
       "      <td>0.0</td>\n",
       "      <td>2</td>\n",
       "    </tr>\n",
       "  </tbody>\n",
       "</table>\n",
       "<p>5 rows × 55 columns</p>\n",
       "</div>"
      ],
      "text/plain": [
       "    Applicant_ID  form_field1  form_field2  form_field3  form_field4  \\\n",
       "0  Apcnt_1000000       3436.0      0.28505       1.6560          0.0   \n",
       "1  Apcnt_1000004       3456.0      0.67400       0.2342          0.0   \n",
       "2  Apcnt_1000008       3276.0      0.53845       3.1510          0.0   \n",
       "3  Apcnt_1000012       3372.0      0.17005       0.5050          0.0   \n",
       "4  Apcnt_1000016       3370.0      0.77270       1.1010          0.0   \n",
       "\n",
       "   form_field5  form_field6  form_field7  form_field8  form_field9  ...  \\\n",
       "0        0.000          0.0   10689720.0     252072.0    4272776.0  ...   \n",
       "1        0.000          0.0     898979.0     497531.0    9073814.0  ...   \n",
       "2        6.282       -999.0     956940.0       -999.0     192944.0  ...   \n",
       "3        0.000     192166.0    3044703.0     385499.0    3986472.0  ...   \n",
       "4        0.000       1556.0     214728.0     214728.0    1284089.0  ...   \n",
       "\n",
       "   form_field45  form_field46  form_field47  form_field48  form_field49  \\\n",
       "0           0.0           0.0             1   -999.000000      1.129518   \n",
       "1        -999.0           0.0             1    349.805730      1.620483   \n",
       "2           0.0           0.0             1   -999.000000      1.513370   \n",
       "3        -999.0           0.0             1     89.940100      0.664452   \n",
       "4           0.0           0.0             1     97.887502      1.427891   \n",
       "\n",
       "   form_field50  default_status  form_field99  form_field54  form  \n",
       "0      0.044335               0        3436.0           0.0     2  \n",
       "1      0.322436               0        3456.0           0.0     2  \n",
       "2      0.011640               1        2277.0           0.0     2  \n",
       "3      0.082729               0      195538.0           0.0     2  \n",
       "4      0.045630               0        4926.0           0.0     2  \n",
       "\n",
       "[5 rows x 55 columns]"
      ]
     },
     "execution_count": 5,
     "metadata": {},
     "output_type": "execute_result"
    }
   ],
   "source": [
    "#checking the first five rows of the train dataset\n",
    "\n",
    "train.head()"
   ]
  },
  {
   "cell_type": "code",
   "execution_count": 6,
   "metadata": {},
   "outputs": [
    {
     "data": {
      "text/plain": [
       "Index(['Applicant_ID', 'form_field1', 'form_field2', 'form_field3',\n",
       "       'form_field4', 'form_field5', 'form_field6', 'form_field7',\n",
       "       'form_field8', 'form_field9', 'form_field10', 'form_field11',\n",
       "       'form_field12', 'form_field13', 'form_field14', 'form_field15',\n",
       "       'form_field16', 'form_field17', 'form_field18', 'form_field19',\n",
       "       'form_field20', 'form_field21', 'form_field22', 'form_field23',\n",
       "       'form_field24', 'form_field25', 'form_field26', 'form_field27',\n",
       "       'form_field28', 'form_field29', 'form_field30', 'form_field31',\n",
       "       'form_field32', 'form_field33', 'form_field34', 'form_field35',\n",
       "       'form_field36', 'form_field37', 'form_field38', 'form_field39',\n",
       "       'form_field40', 'form_field41', 'form_field42', 'form_field43',\n",
       "       'form_field44', 'form_field45', 'form_field46', 'form_field47',\n",
       "       'form_field48', 'form_field49', 'form_field50', 'default_status',\n",
       "       'form_field99', 'form_field54', 'form'],\n",
       "      dtype='object')"
      ]
     },
     "execution_count": 6,
     "metadata": {},
     "output_type": "execute_result"
    }
   ],
   "source": [
    "#checking the colunms in the train dataset\n",
    "\n",
    "train.columns"
   ]
  },
  {
   "cell_type": "code",
   "execution_count": 7,
   "metadata": {},
   "outputs": [],
   "source": [
    "#dropping the Applicant_ID in the test dataset\n",
    "\n",
    "test_id = test['Applicant_ID']"
   ]
  },
  {
   "cell_type": "code",
   "execution_count": 8,
   "metadata": {},
   "outputs": [],
   "source": [
    "\n",
    "train = train.drop('Applicant_ID', axis=1)\n",
    "test = test.drop('Applicant_ID', axis=1)"
   ]
  },
  {
   "cell_type": "code",
   "execution_count": 9,
   "metadata": {},
   "outputs": [],
   "source": [
    "#creating a varaiable for X & y which is default_status(traget variable)\n",
    "\n",
    "X = train.drop('default_status', axis=1)\n",
    "y = train.default_status"
   ]
  },
  {
   "cell_type": "code",
   "execution_count": 10,
   "metadata": {},
   "outputs": [],
   "source": [
    "# calling in the train_test_split function\n",
    "\n",
    "X_train, X_test, y_train, y_test = train_test_split(X, y, test_size=0.15, random_state=42)"
   ]
  },
  {
   "cell_type": "code",
   "execution_count": 11,
   "metadata": {},
   "outputs": [],
   "source": [
    "#calling in the AUC(scoring) function\n",
    "\n",
    "from sklearn.metrics import auc"
   ]
  },
  {
   "cell_type": "code",
   "execution_count": 12,
   "metadata": {},
   "outputs": [],
   "source": [
    "#declaring our model\n",
    "\n",
    "model=CatBoostClassifier(n_estimators=800,eval_metric='AUC',max_depth=5,learning_rate=0.1,od_wait=50, \n",
    "                              subsample=0.9,bootstrap_type='Bernoulli',metric_period=20,\n",
    "                     #l2_leaf_reg=5,#bagging_temperature=0.85,random_strength=100,\n",
    "                     use_best_model=True)\n"
   ]
  },
  {
   "cell_type": "code",
   "execution_count": 13,
   "metadata": {},
   "outputs": [
    {
     "name": "stderr",
     "output_type": "stream",
     "text": [
      "Warning: Overfitting detector is active, thus evaluation metric is calculated on every iteration. 'metric_period' is ignored for evaluation metric.\n"
     ]
    },
    {
     "name": "stdout",
     "output_type": "stream",
     "text": [
      "0:\ttest: 0.7838905\tbest: 0.7838905 (0)\ttotal: 181ms\tremaining: 2m 24s\n",
      "20:\ttest: 0.8214311\tbest: 0.8214311 (20)\ttotal: 1.44s\tremaining: 53.5s\n",
      "40:\ttest: 0.8267293\tbest: 0.8267293 (40)\ttotal: 2.48s\tremaining: 45.9s\n",
      "60:\ttest: 0.8292761\tbest: 0.8292761 (60)\ttotal: 3.39s\tremaining: 41.1s\n",
      "80:\ttest: 0.8309716\tbest: 0.8309716 (80)\ttotal: 4.14s\tremaining: 36.7s\n",
      "100:\ttest: 0.8324087\tbest: 0.8324087 (100)\ttotal: 4.89s\tremaining: 33.9s\n",
      "120:\ttest: 0.8332179\tbest: 0.8332179 (120)\ttotal: 5.6s\tremaining: 31.4s\n",
      "140:\ttest: 0.8336349\tbest: 0.8336576 (132)\ttotal: 6.28s\tremaining: 29.4s\n",
      "160:\ttest: 0.8341942\tbest: 0.8341942 (160)\ttotal: 6.84s\tremaining: 27.1s\n",
      "180:\ttest: 0.8346618\tbest: 0.8346718 (178)\ttotal: 7.4s\tremaining: 25.3s\n",
      "200:\ttest: 0.8347852\tbest: 0.8349352 (190)\ttotal: 8s\tremaining: 23.8s\n",
      "220:\ttest: 0.8350587\tbest: 0.8351071 (218)\ttotal: 8.55s\tremaining: 22.4s\n",
      "240:\ttest: 0.8354211\tbest: 0.8354211 (240)\ttotal: 9.07s\tremaining: 21s\n",
      "260:\ttest: 0.8356971\tbest: 0.8356971 (260)\ttotal: 9.62s\tremaining: 19.9s\n",
      "280:\ttest: 0.8355734\tbest: 0.8357074 (264)\ttotal: 10.1s\tremaining: 18.7s\n",
      "300:\ttest: 0.8358580\tbest: 0.8358580 (300)\ttotal: 10.7s\tremaining: 17.7s\n",
      "320:\ttest: 0.8358637\tbest: 0.8359539 (312)\ttotal: 11.2s\tremaining: 16.7s\n",
      "340:\ttest: 0.8358434\tbest: 0.8359539 (312)\ttotal: 11.8s\tremaining: 15.9s\n",
      "360:\ttest: 0.8358566\tbest: 0.8359539 (312)\ttotal: 12.4s\tremaining: 15s\n",
      "Stopped by overfitting detector  (50 iterations wait)\n",
      "\n",
      "bestTest = 0.8359539337\n",
      "bestIteration = 312\n",
      "\n",
      "Shrink model to first 313 iterations.\n"
     ]
    },
    {
     "data": {
      "text/plain": [
       "<catboost.core.CatBoostClassifier at 0x279ac1db608>"
      ]
     },
     "execution_count": 13,
     "metadata": {},
     "output_type": "execute_result"
    }
   ],
   "source": [
    "#fitting the model to give us the best test\n",
    "#Note: overfitting detetctor used\n",
    "\n",
    "model.fit(X_train, y_train, eval_set=(X_test, y_test))"
   ]
  },
  {
   "cell_type": "code",
   "execution_count": 14,
   "metadata": {},
   "outputs": [],
   "source": [
    "#saving the prediction into the preds variable\n",
    "\n",
    "pred = model.predict_proba(test)[:, 1]"
   ]
  },
  {
   "cell_type": "code",
   "execution_count": null,
   "metadata": {},
   "outputs": [],
   "source": []
  },
  {
   "cell_type": "code",
   "execution_count": null,
   "metadata": {},
   "outputs": [],
   "source": [
    "# tuning my model process begins."
   ]
  },
  {
   "cell_type": "code",
   "execution_count": 15,
   "metadata": {},
   "outputs": [],
   "source": [
    "#calling in the train_test_split function\n",
    "\n",
    "X_train, X_test, y_train, y_test = train_test_split(X, y, test_size=0.15, random_state=42)"
   ]
  },
  {
   "cell_type": "code",
   "execution_count": 16,
   "metadata": {},
   "outputs": [
    {
     "name": "stdout",
     "output_type": "stream",
     "text": [
      "0:\ttest: 0.7764557\ttest1: 0.7685470\tbest: 0.7685470 (0)\ttotal: 61.1ms\tremaining: 48.8s\n",
      "100:\ttest: 0.8430527\ttest1: 0.8351082\tbest: 0.8351082 (100)\ttotal: 4.19s\tremaining: 29s\n",
      "200:\ttest: 0.8533456\ttest1: 0.8374638\tbest: 0.8375273 (188)\ttotal: 6.76s\tremaining: 20.1s\n",
      "300:\ttest: 0.8614406\ttest1: 0.8380371\tbest: 0.8380371 (300)\ttotal: 9.15s\tremaining: 15.2s\n",
      "400:\ttest: 0.8685816\ttest1: 0.8384423\tbest: 0.8386051 (392)\ttotal: 12.3s\tremaining: 12.2s\n",
      "Stopped by overfitting detector  (100 iterations wait)\n",
      "\n",
      "bestTest = 0.8386051391\n",
      "bestIteration = 392\n",
      "\n",
      "Shrink model to first 393 iterations.\n",
      "err:  0.8386051391057494\n",
      "0:\ttest: 0.7744782\ttest1: 0.7720282\tbest: 0.7720282 (0)\ttotal: 50.3ms\tremaining: 40.2s\n",
      "100:\ttest: 0.8432378\ttest1: 0.8330014\tbest: 0.8330014 (100)\ttotal: 3.62s\tremaining: 25s\n",
      "200:\ttest: 0.8541894\ttest1: 0.8362158\tbest: 0.8362158 (200)\ttotal: 6.13s\tremaining: 18.3s\n",
      "300:\ttest: 0.8628849\ttest1: 0.8371531\tbest: 0.8371531 (300)\ttotal: 8.57s\tremaining: 14.2s\n",
      "400:\ttest: 0.8703450\ttest1: 0.8375600\tbest: 0.8376020 (397)\ttotal: 11.1s\tremaining: 11s\n",
      "Stopped by overfitting detector  (100 iterations wait)\n",
      "\n",
      "bestTest = 0.8376020486\n",
      "bestIteration = 397\n",
      "\n",
      "Shrink model to first 398 iterations.\n",
      "err:  0.8376020485910352\n",
      "0:\ttest: 0.7720986\ttest1: 0.7735121\tbest: 0.7735121 (0)\ttotal: 70.5ms\tremaining: 56.3s\n",
      "100:\ttest: 0.8408742\ttest1: 0.8378757\tbest: 0.8379114 (99)\ttotal: 3.79s\tremaining: 26.3s\n",
      "200:\ttest: 0.8514232\ttest1: 0.8405627\tbest: 0.8405627 (200)\ttotal: 6.16s\tremaining: 18.3s\n",
      "300:\ttest: 0.8599921\ttest1: 0.8413577\tbest: 0.8414758 (281)\ttotal: 8.52s\tremaining: 14.1s\n",
      "Stopped by overfitting detector  (100 iterations wait)\n",
      "\n",
      "bestTest = 0.8414758465\n",
      "bestIteration = 281\n",
      "\n",
      "Shrink model to first 282 iterations.\n",
      "err:  0.8414758465017943\n"
     ]
    }
   ],
   "source": [
    "# first tuning using the StratifedKfold and Catboost model algorithm\n",
    "\n",
    "from sklearn.metrics import accuracy_score,confusion_matrix,roc_auc_score\n",
    "errcb=[]\n",
    "y_pred_totcb=[]\n",
    "from sklearn.model_selection import KFold,StratifiedKFold, TimeSeriesSplit, GroupKFold\n",
    "fold=StratifiedKFold(n_splits=3, shuffle=True, random_state=42)\n",
    "i=1\n",
    "for train_index, test_index in fold.split(X,y):\n",
    "    X_train, X_test = X.iloc[train_index], X.iloc[test_index]\n",
    "    y_train, y_test = y[train_index], y[test_index]\n",
    "    m=CatBoostClassifier(n_estimators=800,eval_metric='AUC',max_depth=4,learning_rate=0.1,#reg_lambda=5,#5\n",
    "                              subsample=0.9,bootstrap_type='Bernoulli',#leaf_estimation_iterations=10,\n",
    "                    #l2_leaf_reg=5,#bagging_temperature=0.85,random_strength=100,\n",
    "                     use_best_model=True)\n",
    "    #CatBoostClassifier(n_estimators=1000,eval_metric='AUC',max_depth=5,learning_rate=0.1,reg_lambda=5,#5\n",
    "                              #subsample=0.9,bootstrap_type='Bernoulli',\n",
    "                    #l2_leaf_reg=5,#bagging_temperature=0.85,random_strength=100,\n",
    "                     #use_best_model=True)\n",
    "    m.fit(X_train,y_train,eval_set=[(X_train,y_train),(X_test, y_test)], early_stopping_rounds=100,verbose=100)\n",
    "    preds=m.predict_proba(X_test)[:, 1]\n",
    "    print(\"err: \",roc_auc_score(y_test,preds))\n",
    "    errcb.append(roc_auc_score(y_test,preds))\n",
    "    p = m.predict_proba(test)[:, 1]\n",
    "    y_pred_totcb.append(p)"
   ]
  },
  {
   "cell_type": "code",
   "execution_count": 17,
   "metadata": {},
   "outputs": [
    {
     "data": {
      "text/plain": [
       "0.839227678066193"
      ]
     },
     "execution_count": 17,
     "metadata": {},
     "output_type": "execute_result"
    }
   ],
   "source": [
    "#checking the np.mean(errcb) of the first tuning\n",
    "\n",
    "np.mean(errcb)"
   ]
  },
  {
   "cell_type": "code",
   "execution_count": 18,
   "metadata": {},
   "outputs": [
    {
     "name": "stdout",
     "output_type": "stream",
     "text": [
      "0:\ttest: 0.7819273\ttest1: 0.7775535\tbest: 0.7775535 (0)\ttotal: 66.6ms\tremaining: 1m 6s\n",
      "100:\ttest: 0.8418628\ttest1: 0.8344260\tbest: 0.8344260 (100)\ttotal: 5.31s\tremaining: 47.3s\n",
      "200:\ttest: 0.8504926\ttest1: 0.8372593\tbest: 0.8372593 (200)\ttotal: 8.21s\tremaining: 32.6s\n",
      "300:\ttest: 0.8567133\ttest1: 0.8380329\tbest: 0.8380367 (299)\ttotal: 11.3s\tremaining: 26.2s\n",
      "400:\ttest: 0.8620981\ttest1: 0.8384317\tbest: 0.8385074 (361)\ttotal: 14.1s\tremaining: 21.1s\n",
      "500:\ttest: 0.8667306\ttest1: 0.8387786\tbest: 0.8387786 (500)\ttotal: 16.5s\tremaining: 16.5s\n",
      "600:\ttest: 0.8713729\ttest1: 0.8388250\tbest: 0.8388832 (575)\ttotal: 19s\tremaining: 12.6s\n",
      "700:\ttest: 0.8754038\ttest1: 0.8387987\tbest: 0.8389437 (642)\ttotal: 21.6s\tremaining: 9.23s\n",
      "Stopped by overfitting detector  (100 iterations wait)\n",
      "\n",
      "bestTest = 0.8389437053\n",
      "bestIteration = 642\n",
      "\n",
      "Shrink model to first 643 iterations.\n",
      "err:  0.8389437053341018\n",
      "0:\ttest: 0.7830210\ttest1: 0.7806608\tbest: 0.7806608 (0)\ttotal: 68.5ms\tremaining: 1m 8s\n",
      "100:\ttest: 0.8430340\ttest1: 0.8338176\tbest: 0.8338176 (100)\ttotal: 3.89s\tremaining: 34.6s\n",
      "200:\ttest: 0.8512250\ttest1: 0.8356958\tbest: 0.8356958 (200)\ttotal: 6.4s\tremaining: 25.4s\n",
      "300:\ttest: 0.8576315\ttest1: 0.8366319\tbest: 0.8366319 (300)\ttotal: 8.85s\tremaining: 20.5s\n",
      "400:\ttest: 0.8627590\ttest1: 0.8368759\tbest: 0.8368759 (400)\ttotal: 11.4s\tremaining: 17s\n",
      "500:\ttest: 0.8675115\ttest1: 0.8370797\tbest: 0.8372400 (485)\ttotal: 13.9s\tremaining: 13.8s\n",
      "Stopped by overfitting detector  (100 iterations wait)\n",
      "\n",
      "bestTest = 0.8372399807\n",
      "bestIteration = 485\n",
      "\n",
      "Shrink model to first 486 iterations.\n",
      "err:  0.8372399807331637\n",
      "0:\ttest: 0.7787936\ttest1: 0.7837946\tbest: 0.7837946 (0)\ttotal: 33.3ms\tremaining: 33.3s\n",
      "100:\ttest: 0.8396021\ttest1: 0.8378475\tbest: 0.8378475 (100)\ttotal: 4.3s\tremaining: 38.3s\n",
      "200:\ttest: 0.8483364\ttest1: 0.8408332\tbest: 0.8408332 (200)\ttotal: 6.97s\tremaining: 27.7s\n",
      "300:\ttest: 0.8551419\ttest1: 0.8417093\tbest: 0.8417436 (286)\ttotal: 9.99s\tremaining: 23.2s\n",
      "400:\ttest: 0.8603553\ttest1: 0.8422086\tbest: 0.8422214 (399)\ttotal: 12.9s\tremaining: 19.3s\n",
      "500:\ttest: 0.8653382\ttest1: 0.8422542\tbest: 0.8423705 (478)\ttotal: 15.9s\tremaining: 15.8s\n",
      "600:\ttest: 0.8698446\ttest1: 0.8423187\tbest: 0.8424633 (559)\ttotal: 18.7s\tremaining: 12.4s\n",
      "Stopped by overfitting detector  (100 iterations wait)\n",
      "\n",
      "bestTest = 0.8424633327\n",
      "bestIteration = 559\n",
      "\n",
      "Shrink model to first 560 iterations.\n",
      "err:  0.842463332657905\n"
     ]
    }
   ],
   "source": [
    "# second tuning using the StratifedKfold and Catboost model algorithm\n",
    "\n",
    "from sklearn.metrics import accuracy_score,confusion_matrix,roc_auc_score\n",
    "errcb1=[]\n",
    "y_pred_totcb1=[]\n",
    "from sklearn.model_selection import KFold,StratifiedKFold, TimeSeriesSplit\n",
    "fold=StratifiedKFold(n_splits=3, shuffle=True, random_state=42)\n",
    "i=1\n",
    "for train_index, test_index in fold.split(X,y):\n",
    "    X_train, X_test = X.iloc[train_index], X.iloc[test_index]\n",
    "    y_train, y_test = y[train_index], y[test_index]\n",
    "    m1=CatBoostClassifier(n_estimators=1000,eval_metric='AUC',max_depth=4,learning_rate=0.1,od_wait=50, reg_lambda=3,\n",
    "                              bootstrap_type='Bayesian',\n",
    "                     use_best_model=True)\n",
    "    m1.fit(X_train,y_train,eval_set=[(X_train,y_train),(X_test, y_test)], early_stopping_rounds=100,verbose=100)\n",
    "    preds=m1.predict_proba(X_test)[:, 1]\n",
    "    print(\"err: \",roc_auc_score(y_test,preds))\n",
    "    errcb1.append(roc_auc_score(y_test,preds))\n",
    "    p1 = m1.predict_proba(test)[:, 1]\n",
    "    y_pred_totcb1.append(p1)\n"
   ]
  },
  {
   "cell_type": "code",
   "execution_count": 19,
   "metadata": {},
   "outputs": [
    {
     "data": {
      "text/plain": [
       "0.8395490062417235"
      ]
     },
     "execution_count": 19,
     "metadata": {},
     "output_type": "execute_result"
    }
   ],
   "source": [
    "#checking the np.mean(errcb) of the second tuning\n",
    "\n",
    "np.mean(errcb1)"
   ]
  },
  {
   "cell_type": "code",
   "execution_count": 20,
   "metadata": {},
   "outputs": [
    {
     "name": "stdout",
     "output_type": "stream",
     "text": [
      "[07:57:03] WARNING: C:\\Users\\Administrator\\workspace\\xgboost-win64_release_1.2.0\\src\\learner.cc:516: \n",
      "Parameters: { metrics, silent } might not be used.\n",
      "\n",
      "  This may not be accurate due to some parameters are only used in language bindings but\n",
      "  passed down to XGBoost core.  Or some parameters are not used but slip through this\n",
      "  verification. Please open an issue if you find above cases.\n",
      "\n",
      "\n",
      "[0]\tvalidation_0-error:0.20221\tvalidation_1-error:0.21063\n",
      "Multiple eval metrics have been passed: 'validation_1-error' will be used for early stopping.\n",
      "\n",
      "Will train until validation_1-error hasn't improved in 100 rounds.\n",
      "[100]\tvalidation_0-error:0.15563\tvalidation_1-error:0.19411\n",
      "[200]\tvalidation_0-error:0.12850\tvalidation_1-error:0.19214\n",
      "Stopping. Best iteration:\n",
      "[140]\tvalidation_0-error:0.14417\tvalidation_1-error:0.19116\n",
      "\n",
      "err:  0.8345128759497069\n",
      "[07:57:28] WARNING: C:\\Users\\Administrator\\workspace\\xgboost-win64_release_1.2.0\\src\\learner.cc:516: \n",
      "Parameters: { metrics, silent } might not be used.\n",
      "\n",
      "  This may not be accurate due to some parameters are only used in language bindings but\n",
      "  passed down to XGBoost core.  Or some parameters are not used but slip through this\n",
      "  verification. Please open an issue if you find above cases.\n",
      "\n",
      "\n",
      "[0]\tvalidation_0-error:0.20062\tvalidation_1-error:0.21946\n",
      "Multiple eval metrics have been passed: 'validation_1-error' will be used for early stopping.\n",
      "\n",
      "Will train until validation_1-error hasn't improved in 100 rounds.\n",
      "[100]\tvalidation_0-error:0.15489\tvalidation_1-error:0.19679\n",
      "Stopping. Best iteration:\n",
      "[75]\tvalidation_0-error:0.16364\tvalidation_1-error:0.19571\n",
      "\n",
      "err:  0.8347432380346074\n",
      "[07:57:44] WARNING: C:\\Users\\Administrator\\workspace\\xgboost-win64_release_1.2.0\\src\\learner.cc:516: \n",
      "Parameters: { metrics, silent } might not be used.\n",
      "\n",
      "  This may not be accurate due to some parameters are only used in language bindings but\n",
      "  passed down to XGBoost core.  Or some parameters are not used but slip through this\n",
      "  verification. Please open an issue if you find above cases.\n",
      "\n",
      "\n",
      "[0]\tvalidation_0-error:0.20279\tvalidation_1-error:0.21455\n",
      "Multiple eval metrics have been passed: 'validation_1-error' will be used for early stopping.\n",
      "\n",
      "Will train until validation_1-error hasn't improved in 100 rounds.\n",
      "[100]\tvalidation_0-error:0.15571\tvalidation_1-error:0.19589\n",
      "[200]\tvalidation_0-error:0.12993\tvalidation_1-error:0.19696\n",
      "Stopping. Best iteration:\n",
      "[107]\tvalidation_0-error:0.15397\tvalidation_1-error:0.19536\n",
      "\n",
      "err:  0.8368357105050838\n",
      "[07:58:02] WARNING: C:\\Users\\Administrator\\workspace\\xgboost-win64_release_1.2.0\\src\\learner.cc:516: \n",
      "Parameters: { metrics, silent } might not be used.\n",
      "\n",
      "  This may not be accurate due to some parameters are only used in language bindings but\n",
      "  passed down to XGBoost core.  Or some parameters are not used but slip through this\n",
      "  verification. Please open an issue if you find above cases.\n",
      "\n",
      "\n",
      "[0]\tvalidation_0-error:0.19942\tvalidation_1-error:0.22491\n",
      "Multiple eval metrics have been passed: 'validation_1-error' will be used for early stopping.\n",
      "\n",
      "Will train until validation_1-error hasn't improved in 100 rounds.\n",
      "[100]\tvalidation_0-error:0.15283\tvalidation_1-error:0.20420\n",
      "Stopping. Best iteration:\n",
      "[58]\tvalidation_0-error:0.16714\tvalidation_1-error:0.20143\n",
      "\n",
      "err:  0.8276154620807189\n",
      "[07:58:18] WARNING: C:\\Users\\Administrator\\workspace\\xgboost-win64_release_1.2.0\\src\\learner.cc:516: \n",
      "Parameters: { metrics, silent } might not be used.\n",
      "\n",
      "  This may not be accurate due to some parameters are only used in language bindings but\n",
      "  passed down to XGBoost core.  Or some parameters are not used but slip through this\n",
      "  verification. Please open an issue if you find above cases.\n",
      "\n",
      "\n",
      "[0]\tvalidation_0-error:0.20792\tvalidation_1-error:0.18455\n",
      "Multiple eval metrics have been passed: 'validation_1-error' will be used for early stopping.\n",
      "\n",
      "Will train until validation_1-error hasn't improved in 100 rounds.\n",
      "[100]\tvalidation_0-error:0.16138\tvalidation_1-error:0.16991\n",
      "[200]\tvalidation_0-error:0.13326\tvalidation_1-error:0.16991\n",
      "Stopping. Best iteration:\n",
      "[115]\tvalidation_0-error:0.15679\tvalidation_1-error:0.16857\n",
      "\n",
      "err:  0.8461414526022638\n"
     ]
    }
   ],
   "source": [
    "# third tuning using the Kfold and XGboost model algorithm\n",
    "\n",
    "from sklearn.metrics import accuracy_score,confusion_matrix,roc_auc_score\n",
    "errcb2=[]\n",
    "y_pred_totcb2=[]\n",
    "from sklearn.model_selection import KFold,StratifiedKFold, TimeSeriesSplit\n",
    "fold=KFold(n_splits=5)\n",
    "i=1\n",
    "for train_index, test_index in fold.split(X,y):\n",
    "    X_train, X_test = X.iloc[train_index], X.iloc[test_index]\n",
    "    y_train, y_test = y[train_index], y[test_index]\n",
    "    m2=XGBClassifier(max_depth=6, learning_rate=0.1, n_estimators=800, silent=True, metrics='auc',colsample_bylevel=0.8, reg_alpha=0.8)\n",
    "    m2.fit(X_train,y_train,eval_set=[(X_train,y_train),(X_test, y_test)], early_stopping_rounds=100,verbose=100)\n",
    "    preds=m2.predict_proba(X_test)[:, 1]\n",
    "    print(\"err: \",roc_auc_score(y_test,preds))\n",
    "    errcb2.append(roc_auc_score(y_test,preds))\n",
    "    p2 = m2.predict_proba(test)[:, 1]\n",
    "    y_pred_totcb2.append(p2)"
   ]
  },
  {
   "cell_type": "code",
   "execution_count": 21,
   "metadata": {},
   "outputs": [
    {
     "data": {
      "text/plain": [
       "0.8359697478344762"
      ]
     },
     "execution_count": 21,
     "metadata": {},
     "output_type": "execute_result"
    }
   ],
   "source": [
    "#checking the np.mean(errcb) of the third tuning\n",
    "\n",
    "np.mean(errcb2)"
   ]
  },
  {
   "cell_type": "code",
   "execution_count": 22,
   "metadata": {},
   "outputs": [],
   "source": [
    "# blending my first model prediction \n",
    "\n",
    "d = {\"Applicant_ID\": test_id, 'default_status': np.mean(y_pred_totcb, 0)}\n",
    "test_predictions = pd.DataFrame(data=d)\n",
    "test_predictions = test_predictions[[\"Applicant_ID\", 'default_status']]"
   ]
  },
  {
   "cell_type": "code",
   "execution_count": 23,
   "metadata": {},
   "outputs": [],
   "source": [
    "# saving my blended prediction in test_predictions\n",
    "\n",
    "test_predictions.to_csv('model1.csv', index=False)"
   ]
  },
  {
   "cell_type": "code",
   "execution_count": 24,
   "metadata": {},
   "outputs": [
    {
     "data": {
      "text/html": [
       "<div>\n",
       "<style scoped>\n",
       "    .dataframe tbody tr th:only-of-type {\n",
       "        vertical-align: middle;\n",
       "    }\n",
       "\n",
       "    .dataframe tbody tr th {\n",
       "        vertical-align: top;\n",
       "    }\n",
       "\n",
       "    .dataframe thead th {\n",
       "        text-align: right;\n",
       "    }\n",
       "</style>\n",
       "<table border=\"1\" class=\"dataframe\">\n",
       "  <thead>\n",
       "    <tr style=\"text-align: right;\">\n",
       "      <th></th>\n",
       "      <th>Applicant_ID</th>\n",
       "      <th>default_status</th>\n",
       "    </tr>\n",
       "  </thead>\n",
       "  <tbody>\n",
       "    <tr>\n",
       "      <th>0</th>\n",
       "      <td>Apcnt_1000032</td>\n",
       "      <td>0.325257</td>\n",
       "    </tr>\n",
       "    <tr>\n",
       "      <th>1</th>\n",
       "      <td>Apcnt_1000048</td>\n",
       "      <td>0.422565</td>\n",
       "    </tr>\n",
       "    <tr>\n",
       "      <th>2</th>\n",
       "      <td>Apcnt_1000052</td>\n",
       "      <td>0.381112</td>\n",
       "    </tr>\n",
       "    <tr>\n",
       "      <th>3</th>\n",
       "      <td>Apcnt_1000076</td>\n",
       "      <td>0.739142</td>\n",
       "    </tr>\n",
       "    <tr>\n",
       "      <th>4</th>\n",
       "      <td>Apcnt_1000080</td>\n",
       "      <td>0.188438</td>\n",
       "    </tr>\n",
       "  </tbody>\n",
       "</table>\n",
       "</div>"
      ],
      "text/plain": [
       "    Applicant_ID  default_status\n",
       "0  Apcnt_1000032        0.325257\n",
       "1  Apcnt_1000048        0.422565\n",
       "2  Apcnt_1000052        0.381112\n",
       "3  Apcnt_1000076        0.739142\n",
       "4  Apcnt_1000080        0.188438"
      ]
     },
     "execution_count": 24,
     "metadata": {},
     "output_type": "execute_result"
    }
   ],
   "source": [
    "#checking my the first five rows of my test_predictions\n",
    "\n",
    "test_predictions.head()"
   ]
  },
  {
   "cell_type": "code",
   "execution_count": 25,
   "metadata": {},
   "outputs": [],
   "source": [
    "# blending my second prediction \n",
    "d = {\"Applicant_ID\": test_id, 'default_status': np.mean(y_pred_totcb1, 0)}\n",
    "test_predictioned = pd.DataFrame(data=d)\n",
    "test_predictioned = test_predictioned[[\"Applicant_ID\", 'default_status']]"
   ]
  },
  {
   "cell_type": "code",
   "execution_count": 26,
   "metadata": {},
   "outputs": [],
   "source": [
    "# saving my blended prediction in test_predictioned\n",
    "test_predictioned.to_csv('model2.csv', index=False)"
   ]
  },
  {
   "cell_type": "code",
   "execution_count": 27,
   "metadata": {},
   "outputs": [
    {
     "data": {
      "text/html": [
       "<div>\n",
       "<style scoped>\n",
       "    .dataframe tbody tr th:only-of-type {\n",
       "        vertical-align: middle;\n",
       "    }\n",
       "\n",
       "    .dataframe tbody tr th {\n",
       "        vertical-align: top;\n",
       "    }\n",
       "\n",
       "    .dataframe thead th {\n",
       "        text-align: right;\n",
       "    }\n",
       "</style>\n",
       "<table border=\"1\" class=\"dataframe\">\n",
       "  <thead>\n",
       "    <tr style=\"text-align: right;\">\n",
       "      <th></th>\n",
       "      <th>Applicant_ID</th>\n",
       "      <th>default_status</th>\n",
       "    </tr>\n",
       "  </thead>\n",
       "  <tbody>\n",
       "    <tr>\n",
       "      <th>0</th>\n",
       "      <td>Apcnt_1000032</td>\n",
       "      <td>0.319720</td>\n",
       "    </tr>\n",
       "    <tr>\n",
       "      <th>1</th>\n",
       "      <td>Apcnt_1000048</td>\n",
       "      <td>0.311387</td>\n",
       "    </tr>\n",
       "    <tr>\n",
       "      <th>2</th>\n",
       "      <td>Apcnt_1000052</td>\n",
       "      <td>0.380393</td>\n",
       "    </tr>\n",
       "    <tr>\n",
       "      <th>3</th>\n",
       "      <td>Apcnt_1000076</td>\n",
       "      <td>0.752481</td>\n",
       "    </tr>\n",
       "    <tr>\n",
       "      <th>4</th>\n",
       "      <td>Apcnt_1000080</td>\n",
       "      <td>0.202556</td>\n",
       "    </tr>\n",
       "  </tbody>\n",
       "</table>\n",
       "</div>"
      ],
      "text/plain": [
       "    Applicant_ID  default_status\n",
       "0  Apcnt_1000032        0.319720\n",
       "1  Apcnt_1000048        0.311387\n",
       "2  Apcnt_1000052        0.380393\n",
       "3  Apcnt_1000076        0.752481\n",
       "4  Apcnt_1000080        0.202556"
      ]
     },
     "execution_count": 27,
     "metadata": {},
     "output_type": "execute_result"
    }
   ],
   "source": [
    "#checking my the first five rows of my test_predictioned\n",
    "test_predictioned.head()"
   ]
  },
  {
   "cell_type": "code",
   "execution_count": 28,
   "metadata": {},
   "outputs": [],
   "source": [
    "# blending my third prediction\n",
    "d = {\"Applicant_ID\": test_id, 'default_status': np.mean(y_pred_totcb2, 0)}\n",
    "test_prediction = pd.DataFrame(data=d)\n",
    "test_prediction = test_prediction[[\"Applicant_ID\", 'default_status']]"
   ]
  },
  {
   "cell_type": "code",
   "execution_count": 29,
   "metadata": {},
   "outputs": [],
   "source": [
    "# saving my blended prediction in test_prediction\n",
    "test_prediction.to_csv('model3.csv', index=False)"
   ]
  },
  {
   "cell_type": "code",
   "execution_count": 30,
   "metadata": {},
   "outputs": [
    {
     "data": {
      "text/html": [
       "<div>\n",
       "<style scoped>\n",
       "    .dataframe tbody tr th:only-of-type {\n",
       "        vertical-align: middle;\n",
       "    }\n",
       "\n",
       "    .dataframe tbody tr th {\n",
       "        vertical-align: top;\n",
       "    }\n",
       "\n",
       "    .dataframe thead th {\n",
       "        text-align: right;\n",
       "    }\n",
       "</style>\n",
       "<table border=\"1\" class=\"dataframe\">\n",
       "  <thead>\n",
       "    <tr style=\"text-align: right;\">\n",
       "      <th></th>\n",
       "      <th>Applicant_ID</th>\n",
       "      <th>default_status</th>\n",
       "    </tr>\n",
       "  </thead>\n",
       "  <tbody>\n",
       "    <tr>\n",
       "      <th>0</th>\n",
       "      <td>Apcnt_1000032</td>\n",
       "      <td>0.296817</td>\n",
       "    </tr>\n",
       "    <tr>\n",
       "      <th>1</th>\n",
       "      <td>Apcnt_1000048</td>\n",
       "      <td>0.430409</td>\n",
       "    </tr>\n",
       "    <tr>\n",
       "      <th>2</th>\n",
       "      <td>Apcnt_1000052</td>\n",
       "      <td>0.392111</td>\n",
       "    </tr>\n",
       "    <tr>\n",
       "      <th>3</th>\n",
       "      <td>Apcnt_1000076</td>\n",
       "      <td>0.714224</td>\n",
       "    </tr>\n",
       "    <tr>\n",
       "      <th>4</th>\n",
       "      <td>Apcnt_1000080</td>\n",
       "      <td>0.129975</td>\n",
       "    </tr>\n",
       "  </tbody>\n",
       "</table>\n",
       "</div>"
      ],
      "text/plain": [
       "    Applicant_ID  default_status\n",
       "0  Apcnt_1000032        0.296817\n",
       "1  Apcnt_1000048        0.430409\n",
       "2  Apcnt_1000052        0.392111\n",
       "3  Apcnt_1000076        0.714224\n",
       "4  Apcnt_1000080        0.129975"
      ]
     },
     "execution_count": 30,
     "metadata": {},
     "output_type": "execute_result"
    }
   ],
   "source": [
    "#checking my the first five rows of my test_prediction\n",
    "test_prediction.head()"
   ]
  },
  {
   "cell_type": "code",
   "execution_count": 32,
   "metadata": {},
   "outputs": [],
   "source": [
    "#splitting all my model into a variable(a,b,c respectively)\n",
    "a = pd.read_csv('model1.csv')\n",
    "b = pd.read_csv('model2.csv')\n",
    "c = pd.read_csv('model3.csv')"
   ]
  },
  {
   "cell_type": "code",
   "execution_count": 38,
   "metadata": {},
   "outputs": [
    {
     "data": {
      "text/plain": [
       "(0.9957412571684756, 0.9896882953529387, 0.9887091218926737)"
      ]
     },
     "execution_count": 38,
     "metadata": {},
     "output_type": "execute_result"
    }
   ],
   "source": [
    "# correlating the variable of my tuned model\n",
    "a['default_status'].corr(b['default_status']), a['default_status'].corr(c['default_status']),b['default_status'].corr(c['default_status'])"
   ]
  },
  {
   "cell_type": "code",
   "execution_count": 39,
   "metadata": {},
   "outputs": [
    {
     "data": {
      "text/plain": [
       "(0.9977247086647566, 0.9939064517702845, 0.988709121850515)"
      ]
     },
     "execution_count": 39,
     "metadata": {},
     "output_type": "execute_result"
    }
   ],
   "source": [
    "# correlating the blended prediction of my tuned model\n",
    "test_predictions['default_status'].corr(test_predictioned['default_status']), test_predictions['default_status'].corr(test_prediction['default_status']), test_predictioned['default_status'].corr(test_prediction['default_status'])"
   ]
  },
  {
   "cell_type": "code",
   "execution_count": 40,
   "metadata": {},
   "outputs": [],
   "source": [
    "# blending the whole models into test_predictions model\n",
    "test_predictions['default_status'] = (a['default_status'] * 0.69 + b['default_status'] * 0.35 + c['default_status'] * 0.28).round(2)"
   ]
  },
  {
   "cell_type": "code",
   "execution_count": 41,
   "metadata": {},
   "outputs": [],
   "source": [
    "# stacking my predictions\n",
    "test_predictions.to_csv('credit_stack1.csv', index=False)"
   ]
  },
  {
   "cell_type": "code",
   "execution_count": 43,
   "metadata": {},
   "outputs": [],
   "source": [
    "# generating and saving my predictions into credit2\n",
    "train.to_csv('credit2_train.csv', index=False)\n",
    "test.to_csv('credit2_test.csv', index=False)"
   ]
  },
  {
   "cell_type": "code",
   "execution_count": null,
   "metadata": {},
   "outputs": [],
   "source": []
  }
 ],
 "metadata": {
  "kernelspec": {
   "display_name": "Python 3",
   "language": "python",
   "name": "python3"
  },
  "language_info": {
   "codemirror_mode": {
    "name": "ipython",
    "version": 3
   },
   "file_extension": ".py",
   "mimetype": "text/x-python",
   "name": "python",
   "nbconvert_exporter": "python",
   "pygments_lexer": "ipython3",
   "version": "3.7.6"
  }
 },
 "nbformat": 4,
 "nbformat_minor": 4
}
